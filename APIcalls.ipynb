{
 "cells": [
  {
   "cell_type": "code",
   "execution_count": 1,
   "metadata": {},
   "outputs": [],
   "source": [
    "import requests\n",
    "from newsapi import NewsApiClient\n",
    "import pandas as pd"
   ]
  },
  {
   "cell_type": "code",
   "execution_count": 2,
   "metadata": {},
   "outputs": [],
   "source": [
    "url = \"https://newscatcher.p.rapidapi.com/v1/latest_headlines\"\n",
    "\n",
    "querystring = {\"lang\":\"en\",\"media\":\"True\"}\n",
    "\n",
    "headers = {\n",
    "    'x-rapidapi-key': \"acabb01517msh2b0e769baa71a5dp15fcabjsn6d2798ce3ac8\",\n",
    "    'x-rapidapi-host': \"newscatcher.p.rapidapi.com\"\n",
    "    }\n",
    "\n",
    "response_newscatcher = requests.request(\"GET\", url, headers=headers, params=querystring)\n",
    "\n",
    "newscatcher = response_newscatcher.json()"
   ]
  },
  {
   "cell_type": "code",
   "execution_count": 3,
   "metadata": {},
   "outputs": [
    {
     "data": {
      "text/plain": [
       "{'status': 'ok',\n",
       " 'articles': [{'summary': \"December 16, 2020 (Mainichi Japan) A woman walks by an electronic stock board of a securities firm in Tokyo on Dec. 16, 2020. (AP Photo/Koji Sasahara) TOKYO (Kyodo) -- Tokyo stocks rose slightly Wednesday on hopes for a possible new round of U.S. fiscal stimulus, but the gain was limited ahead of the U.S. Federal Reserve's policy meeting later in the day. The 225-issue Nikkei Stock Average ended up 69.56 points, or 0.26 percent, from Tuesday at 26,757.40. The broader Topix index of all First Section issues on the Tokyo Stock Exchange finished 4.\",\n",
       "   'country': 'NA',\n",
       "   'author': None,\n",
       "   'link': 'https://mainichi.jp/english/articles/20201216/p2g/00m/0bu/087000c',\n",
       "   'language': 'en',\n",
       "   'media': 'https://cdn.mainichi.jp/vol1/2020/12/16/20201216p2g00m0bu086000p/0c10.jpg?1',\n",
       "   'title': 'Tokyo stocks rise on US stimulus hopes, Fed meeting result eyed',\n",
       "   'media_content': None,\n",
       "   'clean_url': 'mainichi.jp',\n",
       "   'rights': 'The copyright of the materials belongs to The Mainichi Newspapers Co. unless stated otherwise.',\n",
       "   'rank': '2424',\n",
       "   'topic': 'entertainment',\n",
       "   'published_date': '2020-12-16 06:37:05',\n",
       "   '_id': '83c6b3d0f1d63e4e83d72b21465ada53'},\n",
       "  {'summary': 'Emily Ratajkowski is showing off her baby bump in a shower selfie photo. Emily is in her last trimester of pregnancy and is moving closer to the birth of her first child. The stunning 29-year-old is married to Sebastian Bear-McClard […] The article https://celebrityinsider.org/emily-ratajkowski-shows-her-baby-bump-in-shower-selfie-464095/ published by https://celebrityinsider.org/author/charissevanhorn/ and appeared first on https://celebrityinsider.org. Any reproduction of this article outside of https://celebrityinsider.',\n",
       "   'country': 'US',\n",
       "   'author': 'Charisse Van Horn',\n",
       "   'link': 'https://celebrityinsider.org/emily-ratajkowski-shows-her-baby-bump-in-shower-selfie-464095/',\n",
       "   'language': 'en',\n",
       "   'media': 'https://celebrityinsider.org/wp-content/uploads/2020/12/emily-ratajkowski-face.jpg',\n",
       "   'title': 'Emily Ratajkowski Shows Her Baby Bump In Shower Selfie',\n",
       "   'media_content': 'https://celebrityinsider.org/wp-content/uploads/2020/12/emily-ratajkowski-face.jpg',\n",
       "   'clean_url': 'celebrityinsider.org',\n",
       "   'rights': 'celebrityinsider.org',\n",
       "   'rank': '50967',\n",
       "   'topic': 'entertainment',\n",
       "   'published_date': '2020-12-16 06:36:05',\n",
       "   '_id': '5f01da73a7c38665fde06c8c61406224'},\n",
       "  {'summary': \"With 26,382 new infections, India's Coronavirus caseload rose to 99,32,547 today. Continue Reading → The post India’s Covid-19 cases rise to 99.32 lakh; death toll up 1,44,096 appeared first on News Today | First with the news.\",\n",
       "   'country': 'IN',\n",
       "   'author': 'NT Bureau',\n",
       "   'link': 'https://newstodaynet.com/index.php/2020/12/16/indias-covid-19-cases-rise-to-99-32-lakh-death-toll-up-144096/',\n",
       "   'language': 'en',\n",
       "   'media': None,\n",
       "   'title': \"India's Covid-19 cases rise to 99.32 lakh; death toll up 1,44,096\",\n",
       "   'media_content': None,\n",
       "   'clean_url': 'newstodaynet.com',\n",
       "   'rights': 'newstodaynet.com',\n",
       "   'rank': '108128',\n",
       "   'topic': 'news',\n",
       "   'published_date': '2020-12-16 06:35:58',\n",
       "   '_id': 'a50d6015d6893b1eee69ad8242ebc28c'},\n",
       "  {'summary': \"New Delhi, Dec 16: The agitating farmers' have written to Central government saying they request the government to stop discrediting the farmers' protests and talk to all farmer groups with equal importance. The letter by ''Sanyukt Kisan Morcha'', which\",\n",
       "   'country': 'IN',\n",
       "   'author': None,\n",
       "   'link': 'https://www.oneindia.com/india/farmers-protest-unions-reject-govt-s-amendment-proposals-block-chilla-border-3190019.html?utm_source=/rss/news-india-fb.xml&utm_medium=23.216.4.34&utm_campaign=client-rss',\n",
       "   'language': 'en',\n",
       "   'media': None,\n",
       "   'title': \"Farmers protest: Unions reject govt's amendment proposals; block Chilla border\",\n",
       "   'media_content': None,\n",
       "   'clean_url': 'oneindia.com',\n",
       "   'rights': 'oneindia.com',\n",
       "   'rank': '14831',\n",
       "   'topic': 'news',\n",
       "   'published_date': '2020-12-16 06:35:33',\n",
       "   '_id': '713936fd594d011b4ff7ad06ca6e2cf8'},\n",
       "  {'summary': \"Fancy buying your very own castle? (Picture: North News & Pictures Ltd) Desperately saving up every last scrap of your salary in hopes of one day being able to afford a deposit on a London flat? Have you thought about just buying a castle instead? That sounds absurd, we know, but it turns out you can get a huge countryside castle – complete with 11 bedrooms, 12 bathrooms, and a bar – for the same price as a fancy flat in the city. Oh, and this castle has its own dungeon. That sells it for us. The Castle, in Castle Eden, County Durham, is up for sale for £3million – so it's still on the pricey side.\",\n",
       "   'country': 'GB',\n",
       "   'author': 'Ellen Scott',\n",
       "   'link': 'https://metro.co.uk/2020/12/16/castle-with-11-bedrooms-and-its-own-dungeon-goes-on-sale-for-the-price-of-a-two-bed-london-flat-13758709/',\n",
       "   'language': 'en',\n",
       "   'media': 'https://i1.wp.com/metro.co.uk/wp-content/uploads/2020/12/PRI_176166279-e1608099238474_1608100512.jpg?quality=90&strip=all&w=1200&h=630&crop=1&zoom=1&ssl=1',\n",
       "   'title': 'Castle with 11 bedrooms and its own dungeon goes on sale for the price of a two-bed London flat',\n",
       "   'media_content': None,\n",
       "   'clean_url': 'metro.co.uk',\n",
       "   'rights': 'metro.co.uk',\n",
       "   'rank': '619',\n",
       "   'topic': 'news',\n",
       "   'published_date': '2020-12-16 06:35:02',\n",
       "   '_id': 'e992563417c877fe7d38653d5a89d17f'}],\n",
       " 'user_input': {'lang': 'en', 'country': None, 'topic': None, 'media': 'True'}}"
      ]
     },
     "execution_count": 3,
     "metadata": {},
     "output_type": "execute_result"
    }
   ],
   "source": [
    "newscatcher"
   ]
  },
  {
   "cell_type": "code",
   "execution_count": 4,
   "metadata": {},
   "outputs": [
    {
     "data": {
      "text/plain": [
       "dict_keys(['status', 'articles', 'user_input'])"
      ]
     },
     "execution_count": 4,
     "metadata": {},
     "output_type": "execute_result"
    }
   ],
   "source": [
    "newscatcher.keys()"
   ]
  },
  {
   "cell_type": "code",
   "execution_count": 5,
   "metadata": {},
   "outputs": [
    {
     "data": {
      "text/plain": [
       "dict_keys(['summary', 'country', 'author', 'link', 'language', 'media', 'title', 'media_content', 'clean_url', 'rights', 'rank', 'topic', 'published_date', '_id'])"
      ]
     },
     "execution_count": 5,
     "metadata": {},
     "output_type": "execute_result"
    }
   ],
   "source": [
    "newscatcher['articles'][0].keys()"
   ]
  },
  {
   "cell_type": "markdown",
   "metadata": {},
   "source": [
    "Create the DataFrame"
   ]
  },
  {
   "cell_type": "code",
   "execution_count": 6,
   "metadata": {},
   "outputs": [],
   "source": [
    "df = pd.DataFrame(data = newscatcher['articles'])"
   ]
  },
  {
   "cell_type": "code",
   "execution_count": 7,
   "metadata": {},
   "outputs": [],
   "source": [
    "df = df[['title','published_date','summary']]"
   ]
  },
  {
   "cell_type": "code",
   "execution_count": 8,
   "metadata": {},
   "outputs": [],
   "source": [
    "if 'Date' in df.columns:\n",
    "    df.insert(len(df.columns),'Date',None)\n",
    "\n",
    "if 'text' in df.columns:\n",
    "    df.insert(len(df.columns),'text',None)\n",
    "\n",
    "for index in df.index:\n",
    "    df.loc[index,'Date'] = df.loc[index,'published_date'].strip().split(' ')[0]\n",
    "    df.loc[index,'text'] = df.loc[index,'summary']\n",
    "#df['Date'] = df['published_date']\n",
    "df = df.drop('published_date',axis=1)\n",
    "df = df.drop('summary',axis =1)\n",
    "#df"
   ]
  },
  {
   "cell_type": "code",
   "execution_count": 9,
   "metadata": {},
   "outputs": [
    {
     "data": {
      "text/html": [
       "<div>\n",
       "<style scoped>\n",
       "    .dataframe tbody tr th:only-of-type {\n",
       "        vertical-align: middle;\n",
       "    }\n",
       "\n",
       "    .dataframe tbody tr th {\n",
       "        vertical-align: top;\n",
       "    }\n",
       "\n",
       "    .dataframe thead th {\n",
       "        text-align: right;\n",
       "    }\n",
       "</style>\n",
       "<table border=\"1\" class=\"dataframe\">\n",
       "  <thead>\n",
       "    <tr style=\"text-align: right;\">\n",
       "      <th></th>\n",
       "      <th>title</th>\n",
       "      <th>Date</th>\n",
       "      <th>text</th>\n",
       "    </tr>\n",
       "  </thead>\n",
       "  <tbody>\n",
       "    <tr>\n",
       "      <th>0</th>\n",
       "      <td>Tokyo stocks rise on US stimulus hopes, Fed me...</td>\n",
       "      <td>2020-12-16</td>\n",
       "      <td>December 16, 2020 (Mainichi Japan) A woman wal...</td>\n",
       "    </tr>\n",
       "    <tr>\n",
       "      <th>1</th>\n",
       "      <td>Emily Ratajkowski Shows Her Baby Bump In Showe...</td>\n",
       "      <td>2020-12-16</td>\n",
       "      <td>Emily Ratajkowski is showing off her baby bump...</td>\n",
       "    </tr>\n",
       "    <tr>\n",
       "      <th>2</th>\n",
       "      <td>India's Covid-19 cases rise to 99.32 lakh; dea...</td>\n",
       "      <td>2020-12-16</td>\n",
       "      <td>With 26,382 new infections, India's Coronaviru...</td>\n",
       "    </tr>\n",
       "    <tr>\n",
       "      <th>3</th>\n",
       "      <td>Farmers protest: Unions reject govt's amendmen...</td>\n",
       "      <td>2020-12-16</td>\n",
       "      <td>New Delhi, Dec 16: The agitating farmers' have...</td>\n",
       "    </tr>\n",
       "    <tr>\n",
       "      <th>4</th>\n",
       "      <td>Castle with 11 bedrooms and its own dungeon go...</td>\n",
       "      <td>2020-12-16</td>\n",
       "      <td>Fancy buying your very own castle? (Picture: N...</td>\n",
       "    </tr>\n",
       "  </tbody>\n",
       "</table>\n",
       "</div>"
      ],
      "text/plain": [
       "                                               title        Date  \\\n",
       "0  Tokyo stocks rise on US stimulus hopes, Fed me...  2020-12-16   \n",
       "1  Emily Ratajkowski Shows Her Baby Bump In Showe...  2020-12-16   \n",
       "2  India's Covid-19 cases rise to 99.32 lakh; dea...  2020-12-16   \n",
       "3  Farmers protest: Unions reject govt's amendmen...  2020-12-16   \n",
       "4  Castle with 11 bedrooms and its own dungeon go...  2020-12-16   \n",
       "\n",
       "                                                text  \n",
       "0  December 16, 2020 (Mainichi Japan) A woman wal...  \n",
       "1  Emily Ratajkowski is showing off her baby bump...  \n",
       "2  With 26,382 new infections, India's Coronaviru...  \n",
       "3  New Delhi, Dec 16: The agitating farmers' have...  \n",
       "4  Fancy buying your very own castle? (Picture: N...  "
      ]
     },
     "execution_count": 9,
     "metadata": {},
     "output_type": "execute_result"
    }
   ],
   "source": [
    "df"
   ]
  },
  {
   "cell_type": "code",
   "execution_count": 10,
   "metadata": {},
   "outputs": [],
   "source": [
    "url = \"https://bing-news-search1.p.rapidapi.com/news\"\n",
    "\n",
    "querystring = {\"safeSearch\":\"Off\",\"textFormat\":\"Raw\"}\n",
    "\n",
    "headers = {\n",
    "    'x-bingapis-sdk': \"true\",\n",
    "    'x-rapidapi-key': \"acabb01517msh2b0e769baa71a5dp15fcabjsn6d2798ce3ac8\",\n",
    "    'x-rapidapi-host': \"bing-news-search1.p.rapidapi.com\"\n",
    "    }\n",
    "\n",
    "response_bing = requests.request(\"GET\", url, headers=headers, params=querystring)\n",
    "\n",
    "bing = response_bing.json()"
   ]
  },
  {
   "cell_type": "code",
   "execution_count": 11,
   "metadata": {},
   "outputs": [
    {
     "data": {
      "text/plain": [
       "dict_keys(['_type', 'webSearchUrl', 'value'])"
      ]
     },
     "execution_count": 11,
     "metadata": {},
     "output_type": "execute_result"
    }
   ],
   "source": [
    "bing.keys()"
   ]
  },
  {
   "cell_type": "code",
   "execution_count": 12,
   "metadata": {},
   "outputs": [],
   "source": [
    "#bing"
   ]
  },
  {
   "cell_type": "code",
   "execution_count": 13,
   "metadata": {},
   "outputs": [],
   "source": [
    "newsapi = NewsApiClient(api_key='28b36e4431f3440098c595860c7da4c3')\n",
    "\n",
    "# /v2/top-headlines\n",
    "top_headlines = newsapi.get_top_headlines(sources='bbc-news')\n",
    "\n",
    "# /v2/everything\n",
    "all_articles = newsapi.get_everything(q='bitcoin',\n",
    "                                      sources='bbc-news,the-verge',\n",
    "                                      domains='bbc.co.uk,techcrunch.com',\n",
    "                                      #from_param='2020-10-17',\n",
    "                                      #to='2020-11-10',\n",
    "                                      language='en',\n",
    "                                      sort_by='relevancy',\n",
    "                                      page=2)"
   ]
  },
  {
   "cell_type": "code",
   "execution_count": 14,
   "metadata": {},
   "outputs": [
    {
     "data": {
      "text/plain": [
       "dict_keys(['status', 'totalResults', 'articles'])"
      ]
     },
     "execution_count": 14,
     "metadata": {},
     "output_type": "execute_result"
    }
   ],
   "source": [
    "top_headlines.keys()"
   ]
  },
  {
   "cell_type": "code",
   "execution_count": 15,
   "metadata": {},
   "outputs": [
    {
     "data": {
      "text/plain": [
       "{'status': 'ok',\n",
       " 'totalResults': 10,\n",
       " 'articles': [{'source': {'id': 'bbc-news', 'name': 'BBC News'},\n",
       "   'author': 'BBC News',\n",
       "   'title': \"Kangaroos can 'communicate' with humans\",\n",
       "   'description': 'Their behaviour challenges a notion that such abilities come only from domestication, a study finds.',\n",
       "   'url': 'http://www.bbc.co.uk/news/world-australia-55312356',\n",
       "   'urlToImage': 'https://ichef.bbci.co.uk/images/ic/400xn/p091jkk3.jpg',\n",
       "   'publishedAt': '2020-12-16T05:52:27.0190948Z',\n",
       "   'content': 'Kangaroos are able to intentionally communicate with people and \"ask for help\", a study has found.\\r\\nThe research challenges the notion that only domesticated animals display this behaviour, co-author… [+65 chars]'},\n",
       "  {'source': {'id': 'bbc-news', 'name': 'BBC News'},\n",
       "   'author': 'BBC News',\n",
       "   'title': 'MacKenzie Scott gives away $4.2bn in four months',\n",
       "   'description': 'The ex-wife of Amazon founder Jeff Bezos has been focusing on women, people of colour and food banks.',\n",
       "   'url': 'http://www.bbc.co.uk/news/business-55313522',\n",
       "   'urlToImage': 'https://ichef.bbci.co.uk/news/1024/branded_news/15B39/production/_116098888_gettyimages-645831994.jpg',\n",
       "   'publishedAt': '2020-12-16T05:52:23.0981958Z',\n",
       "   'content': 'image copyrightGetty Images\\r\\nimage captionMackenzie Scott pictured with her ex-husband Jeff Bezos in 2017\\r\\nMacKenzie Scott, the ex-wife of Amazon founder Jeff Bezos, has donated more than $4bn (£3bn)… [+2583 chars]'},\n",
       "  {'source': {'id': 'bbc-news', 'name': 'BBC News'},\n",
       "   'author': 'BBC News',\n",
       "   'title': \"Australia launches WTO appeal against China's barley tariff\",\n",
       "   'description': \"In a trade row escalation, Australia says it will challenge China's tariff on its barley exports.\",\n",
       "   'url': 'http://www.bbc.co.uk/news/world-australia-55328102',\n",
       "   'urlToImage': 'https://ichef.bbci.co.uk/news/1024/branded_news/7DC4/production/_112869123_gettyimages-509070276.jpg',\n",
       "   'publishedAt': '2020-12-16T04:22:24.3921432Z',\n",
       "   'content': \"image captionBarley - no longer a field of gold for Australian producers\\r\\nAustralia will challenge China's tariff on its barley exports in an appeal to the World Trade Organization (WTO).\\r\\nIt marks t… [+2189 chars]\"},\n",
       "  {'source': {'id': 'bbc-news', 'name': 'BBC News'},\n",
       "   'author': 'BBC News',\n",
       "   'title': \"Ethiopia's Tigray crisis: About 2.3 million children cut off from aid, UN says\",\n",
       "   'description': 'The UN urges access to the region where Ethiopian government forces have been battling local fighters.',\n",
       "   'url': 'http://www.bbc.co.uk/news/world-africa-55327559',\n",
       "   'urlToImage': 'https://ichef.bbci.co.uk/news/1024/branded_news/10355/production/_116098366_mediaitem116098364.jpg',\n",
       "   'publishedAt': '2020-12-16T02:07:23.0679618Z',\n",
       "   'content': \"image captionChildren are among tens of thousands of people who have fled Ethiopia's Tigray region to Sudan\\r\\nAbout 2.3 million children in Ethiopia's northern Tigray region are cut off from humanitar… [+1808 chars]\"},\n",
       "  {'source': {'id': 'bbc-news', 'name': 'BBC News'},\n",
       "   'author': 'BBC News',\n",
       "   'title': 'Peter Nygard: Canadian fashion mogul arrested',\n",
       "   'description': 'US authorities are seeking his extradition from Canada on charges including sex trafficking.',\n",
       "   'url': 'http://www.bbc.co.uk/news/world-us-canada-55307723',\n",
       "   'urlToImage': 'https://ichef.bbci.co.uk/news/1024/branded_news/469F/production/_116097081_gettyimages-513093348.jpg',\n",
       "   'publishedAt': '2020-12-15T21:22:23.1261198Z',\n",
       "   'content': 'image copyrightGetty Images\\r\\nUS authorities say they have indicted Canadian fashion mogul Peter Nygard on nine charges including racketeering and sex trafficking.\\r\\nMr Nygard has been taken into custo… [+2626 chars]'},\n",
       "  {'source': {'id': 'bbc-news', 'name': 'BBC News'},\n",
       "   'author': 'BBC News',\n",
       "   'title': 'Coronavirus: France replaces lockdown with evening curfew',\n",
       "   'description': 'Germany is introducing a hard Christmas lockdown as infections hit record levels.',\n",
       "   'url': 'http://www.bbc.co.uk/news/world-europe-55324422',\n",
       "   'urlToImage': 'https://ichef.bbci.co.uk/news/1024/branded_news/16CC3/production/_116097339_mediaitem116095354.jpg',\n",
       "   'publishedAt': '2020-12-15T20:37:26.7800296Z',\n",
       "   'content': 'image copyrightGetty Images\\r\\nimage captionPolice are carrying out spot checks during the curfew\\r\\nFrance has replaced its second national lockdown with a night curfew.\\r\\nPeople will not be allowed out … [+2194 chars]'},\n",
       "  {'source': {'id': 'bbc-news', 'name': 'BBC News'},\n",
       "   'author': 'BBC News',\n",
       "   'title': 'LGBT-owned kilt maker denounces kilt-clad Proud Boys',\n",
       "   'description': 'The LGBT-owned business says it has pulled its now-infamous yellow kilts from shelves.',\n",
       "   'url': 'http://www.bbc.co.uk/news/world-us-canada-55326451',\n",
       "   'urlToImage': 'https://ichef.bbci.co.uk/news/1024/branded_news/7E17/production/_116097223_gettyimages-1230086608.jpg',\n",
       "   'publishedAt': '2020-12-15T20:37:22.2811508Z',\n",
       "   'content': 'image copyrightGetty Images\\r\\nimage captionThe LGBT-owned kilt producer pulled the yellow kilts from shelves in response to Proud Boys\\r\\nA Virginia kilt producer is \"disgusted\" that their yellow kilts … [+1797 chars]'},\n",
       "  {'source': {'id': 'bbc-news', 'name': 'BBC News'},\n",
       "   'author': 'BBC News',\n",
       "   'title': 'Covid vaccine: When will Americans be vaccinated?',\n",
       "   'description': 'The first doses of the Pfizer vaccine were to healthcare workers in the US on Monday.',\n",
       "   'url': 'http://www.bbc.co.uk/news/world-us-canada-55149138',\n",
       "   'urlToImage': 'https://ichef.bbci.co.uk/news/1024/branded_news/1BAD/production/_115758070_vaccine_976reu.jpg',\n",
       "   'publishedAt': '2020-12-15T19:37:19.329475Z',\n",
       "   'content': 'By Max MatzaBBC News, Washington\\r\\nmedia captionThe day the US began Covid vaccinations\\r\\nAs health workers begin receiving Covid-19 vaccinations across the US, many Americans are asking when they will… [+8148 chars]'},\n",
       "  {'source': {'id': 'bbc-news', 'name': 'BBC News'},\n",
       "   'author': 'BBC News',\n",
       "   'title': \"Puppy that escaped alligator becomes sheriff 'deputy'\",\n",
       "   'description': 'Gunner, a five-month-old Cavalier King Charles Spaniel, is honoured by his local sheriff in Florida.',\n",
       "   'url': 'http://www.bbc.co.uk/news/world-us-canada-55325370',\n",
       "   'urlToImage': 'https://ichef.bbci.co.uk/images/ic/400xn/p091k55p.jpg',\n",
       "   'publishedAt': '2020-12-15T19:07:21.4431763Z',\n",
       "   'content': 'Gunner the puppy survived a close encounter with an alligator\\'s jaws last month - with video of his escape, aided by owner Richard, quickly going viral.\\r\\nNow he\\'s been honoured as a \"deputy dog\" by h… [+154 chars]'},\n",
       "  {'source': {'id': 'bbc-news', 'name': 'BBC News'},\n",
       "   'author': 'BBC News',\n",
       "   'title': 'US election: Top Republican Mitch McConnell congratulates Biden',\n",
       "   'description': 'US Senate Majority Leader Mitch McConnell breaks weeks of silence over the outcome of the election.',\n",
       "   'url': 'http://www.bbc.co.uk/news/election-us-2020-55323407',\n",
       "   'urlToImage': 'https://ichef.bbci.co.uk/news/1024/branded_news/A059/production/_116094014_mediaitem116094013.jpg',\n",
       "   'publishedAt': '2020-12-15T16:07:20.447749Z',\n",
       "   'content': \"image captionJoe Biden hopes his party can take control of the Senate too\\r\\nA top member of US President Donald Trump's Republican Party, Senate Majority Leader Mitch McConnell, has congratulated Joe … [+1052 chars]\"}]}"
      ]
     },
     "execution_count": 15,
     "metadata": {},
     "output_type": "execute_result"
    }
   ],
   "source": [
    "top_headlines#"
   ]
  },
  {
   "cell_type": "code",
   "execution_count": 16,
   "metadata": {},
   "outputs": [
    {
     "data": {
      "text/plain": [
       "dict_keys(['source', 'author', 'title', 'description', 'url', 'urlToImage', 'publishedAt', 'content'])"
      ]
     },
     "execution_count": 16,
     "metadata": {},
     "output_type": "execute_result"
    }
   ],
   "source": [
    "top_headlines['articles'][0].keys()"
   ]
  },
  {
   "cell_type": "code",
   "execution_count": 17,
   "metadata": {},
   "outputs": [
    {
     "data": {
      "text/plain": [
       "{'source': {'id': 'bbc-news', 'name': 'BBC News'},\n",
       " 'author': 'BBC News',\n",
       " 'title': \"Kangaroos can 'communicate' with humans\",\n",
       " 'description': 'Their behaviour challenges a notion that such abilities come only from domestication, a study finds.',\n",
       " 'url': 'http://www.bbc.co.uk/news/world-australia-55312356',\n",
       " 'urlToImage': 'https://ichef.bbci.co.uk/images/ic/400xn/p091jkk3.jpg',\n",
       " 'publishedAt': '2020-12-16T05:52:27.0190948Z',\n",
       " 'content': 'Kangaroos are able to intentionally communicate with people and \"ask for help\", a study has found.\\r\\nThe research challenges the notion that only domesticated animals display this behaviour, co-author… [+65 chars]'}"
      ]
     },
     "execution_count": 17,
     "metadata": {},
     "output_type": "execute_result"
    }
   ],
   "source": [
    "top_headlines['articles'][0]"
   ]
  },
  {
   "cell_type": "code",
   "execution_count": 18,
   "metadata": {},
   "outputs": [],
   "source": [
    "df_2 = pd.DataFrame(data = top_headlines['articles'])"
   ]
  },
  {
   "cell_type": "code",
   "execution_count": 19,
   "metadata": {},
   "outputs": [],
   "source": [
    "df_2 = df_2[['title','content','publishedAt']]"
   ]
  },
  {
   "cell_type": "code",
   "execution_count": 20,
   "metadata": {},
   "outputs": [
    {
     "data": {
      "text/html": [
       "<div>\n",
       "<style scoped>\n",
       "    .dataframe tbody tr th:only-of-type {\n",
       "        vertical-align: middle;\n",
       "    }\n",
       "\n",
       "    .dataframe tbody tr th {\n",
       "        vertical-align: top;\n",
       "    }\n",
       "\n",
       "    .dataframe thead th {\n",
       "        text-align: right;\n",
       "    }\n",
       "</style>\n",
       "<table border=\"1\" class=\"dataframe\">\n",
       "  <thead>\n",
       "    <tr style=\"text-align: right;\">\n",
       "      <th></th>\n",
       "      <th>title</th>\n",
       "      <th>content</th>\n",
       "      <th>publishedAt</th>\n",
       "    </tr>\n",
       "  </thead>\n",
       "  <tbody>\n",
       "    <tr>\n",
       "      <th>0</th>\n",
       "      <td>Kangaroos can 'communicate' with humans</td>\n",
       "      <td>Kangaroos are able to intentionally communicat...</td>\n",
       "      <td>2020-12-16T05:52:27.0190948Z</td>\n",
       "    </tr>\n",
       "    <tr>\n",
       "      <th>1</th>\n",
       "      <td>MacKenzie Scott gives away $4.2bn in four months</td>\n",
       "      <td>image copyrightGetty Images\\r\\nimage captionMa...</td>\n",
       "      <td>2020-12-16T05:52:23.0981958Z</td>\n",
       "    </tr>\n",
       "    <tr>\n",
       "      <th>2</th>\n",
       "      <td>Australia launches WTO appeal against China's ...</td>\n",
       "      <td>image captionBarley - no longer a field of gol...</td>\n",
       "      <td>2020-12-16T04:22:24.3921432Z</td>\n",
       "    </tr>\n",
       "    <tr>\n",
       "      <th>3</th>\n",
       "      <td>Ethiopia's Tigray crisis: About 2.3 million ch...</td>\n",
       "      <td>image captionChildren are among tens of thousa...</td>\n",
       "      <td>2020-12-16T02:07:23.0679618Z</td>\n",
       "    </tr>\n",
       "    <tr>\n",
       "      <th>4</th>\n",
       "      <td>Peter Nygard: Canadian fashion mogul arrested</td>\n",
       "      <td>image copyrightGetty Images\\r\\nUS authorities ...</td>\n",
       "      <td>2020-12-15T21:22:23.1261198Z</td>\n",
       "    </tr>\n",
       "    <tr>\n",
       "      <th>5</th>\n",
       "      <td>Coronavirus: France replaces lockdown with eve...</td>\n",
       "      <td>image copyrightGetty Images\\r\\nimage captionPo...</td>\n",
       "      <td>2020-12-15T20:37:26.7800296Z</td>\n",
       "    </tr>\n",
       "    <tr>\n",
       "      <th>6</th>\n",
       "      <td>LGBT-owned kilt maker denounces kilt-clad Prou...</td>\n",
       "      <td>image copyrightGetty Images\\r\\nimage captionTh...</td>\n",
       "      <td>2020-12-15T20:37:22.2811508Z</td>\n",
       "    </tr>\n",
       "    <tr>\n",
       "      <th>7</th>\n",
       "      <td>Covid vaccine: When will Americans be vaccinated?</td>\n",
       "      <td>By Max MatzaBBC News, Washington\\r\\nmedia capt...</td>\n",
       "      <td>2020-12-15T19:37:19.329475Z</td>\n",
       "    </tr>\n",
       "    <tr>\n",
       "      <th>8</th>\n",
       "      <td>Puppy that escaped alligator becomes sheriff '...</td>\n",
       "      <td>Gunner the puppy survived a close encounter wi...</td>\n",
       "      <td>2020-12-15T19:07:21.4431763Z</td>\n",
       "    </tr>\n",
       "    <tr>\n",
       "      <th>9</th>\n",
       "      <td>US election: Top Republican Mitch McConnell co...</td>\n",
       "      <td>image captionJoe Biden hopes his party can tak...</td>\n",
       "      <td>2020-12-15T16:07:20.447749Z</td>\n",
       "    </tr>\n",
       "  </tbody>\n",
       "</table>\n",
       "</div>"
      ],
      "text/plain": [
       "                                               title  \\\n",
       "0            Kangaroos can 'communicate' with humans   \n",
       "1   MacKenzie Scott gives away $4.2bn in four months   \n",
       "2  Australia launches WTO appeal against China's ...   \n",
       "3  Ethiopia's Tigray crisis: About 2.3 million ch...   \n",
       "4      Peter Nygard: Canadian fashion mogul arrested   \n",
       "5  Coronavirus: France replaces lockdown with eve...   \n",
       "6  LGBT-owned kilt maker denounces kilt-clad Prou...   \n",
       "7  Covid vaccine: When will Americans be vaccinated?   \n",
       "8  Puppy that escaped alligator becomes sheriff '...   \n",
       "9  US election: Top Republican Mitch McConnell co...   \n",
       "\n",
       "                                             content  \\\n",
       "0  Kangaroos are able to intentionally communicat...   \n",
       "1  image copyrightGetty Images\\r\\nimage captionMa...   \n",
       "2  image captionBarley - no longer a field of gol...   \n",
       "3  image captionChildren are among tens of thousa...   \n",
       "4  image copyrightGetty Images\\r\\nUS authorities ...   \n",
       "5  image copyrightGetty Images\\r\\nimage captionPo...   \n",
       "6  image copyrightGetty Images\\r\\nimage captionTh...   \n",
       "7  By Max MatzaBBC News, Washington\\r\\nmedia capt...   \n",
       "8  Gunner the puppy survived a close encounter wi...   \n",
       "9  image captionJoe Biden hopes his party can tak...   \n",
       "\n",
       "                    publishedAt  \n",
       "0  2020-12-16T05:52:27.0190948Z  \n",
       "1  2020-12-16T05:52:23.0981958Z  \n",
       "2  2020-12-16T04:22:24.3921432Z  \n",
       "3  2020-12-16T02:07:23.0679618Z  \n",
       "4  2020-12-15T21:22:23.1261198Z  \n",
       "5  2020-12-15T20:37:26.7800296Z  \n",
       "6  2020-12-15T20:37:22.2811508Z  \n",
       "7   2020-12-15T19:37:19.329475Z  \n",
       "8  2020-12-15T19:07:21.4431763Z  \n",
       "9   2020-12-15T16:07:20.447749Z  "
      ]
     },
     "execution_count": 20,
     "metadata": {},
     "output_type": "execute_result"
    }
   ],
   "source": [
    "df_2"
   ]
  },
  {
   "cell_type": "code",
   "execution_count": 21,
   "metadata": {},
   "outputs": [],
   "source": [
    "if 'Date' in df_2.columns:\n",
    "    df_2.insert(len(df_2.columns),'Date',None)\n",
    "\n",
    "if 'text' in df_2.columns:\n",
    "    df_2.insert(len(df_2.columns),'text',None)\n",
    "\n",
    "for index in df_2.index:\n",
    "    df_2.loc[index,'Date'] = df_2.loc[index,'publishedAt'][:10]\n",
    "    df_2.loc[index,'text'] = df_2.loc[index,'content']\n",
    "#df['Date'] = df['published_date']\n",
    "df_2 = df_2.drop('publishedAt',axis=1)\n",
    "df_2 = df_2.drop('content',axis =1)\n",
    "#df"
   ]
  },
  {
   "cell_type": "code",
   "execution_count": 22,
   "metadata": {},
   "outputs": [
    {
     "data": {
      "text/html": [
       "<div>\n",
       "<style scoped>\n",
       "    .dataframe tbody tr th:only-of-type {\n",
       "        vertical-align: middle;\n",
       "    }\n",
       "\n",
       "    .dataframe tbody tr th {\n",
       "        vertical-align: top;\n",
       "    }\n",
       "\n",
       "    .dataframe thead th {\n",
       "        text-align: right;\n",
       "    }\n",
       "</style>\n",
       "<table border=\"1\" class=\"dataframe\">\n",
       "  <thead>\n",
       "    <tr style=\"text-align: right;\">\n",
       "      <th></th>\n",
       "      <th>title</th>\n",
       "      <th>Date</th>\n",
       "      <th>text</th>\n",
       "    </tr>\n",
       "  </thead>\n",
       "  <tbody>\n",
       "    <tr>\n",
       "      <th>0</th>\n",
       "      <td>Kangaroos can 'communicate' with humans</td>\n",
       "      <td>2020-12-16</td>\n",
       "      <td>Kangaroos are able to intentionally communicat...</td>\n",
       "    </tr>\n",
       "    <tr>\n",
       "      <th>1</th>\n",
       "      <td>MacKenzie Scott gives away $4.2bn in four months</td>\n",
       "      <td>2020-12-16</td>\n",
       "      <td>image copyrightGetty Images\\r\\nimage captionMa...</td>\n",
       "    </tr>\n",
       "    <tr>\n",
       "      <th>2</th>\n",
       "      <td>Australia launches WTO appeal against China's ...</td>\n",
       "      <td>2020-12-16</td>\n",
       "      <td>image captionBarley - no longer a field of gol...</td>\n",
       "    </tr>\n",
       "    <tr>\n",
       "      <th>3</th>\n",
       "      <td>Ethiopia's Tigray crisis: About 2.3 million ch...</td>\n",
       "      <td>2020-12-16</td>\n",
       "      <td>image captionChildren are among tens of thousa...</td>\n",
       "    </tr>\n",
       "    <tr>\n",
       "      <th>4</th>\n",
       "      <td>Peter Nygard: Canadian fashion mogul arrested</td>\n",
       "      <td>2020-12-15</td>\n",
       "      <td>image copyrightGetty Images\\r\\nUS authorities ...</td>\n",
       "    </tr>\n",
       "    <tr>\n",
       "      <th>5</th>\n",
       "      <td>Coronavirus: France replaces lockdown with eve...</td>\n",
       "      <td>2020-12-15</td>\n",
       "      <td>image copyrightGetty Images\\r\\nimage captionPo...</td>\n",
       "    </tr>\n",
       "    <tr>\n",
       "      <th>6</th>\n",
       "      <td>LGBT-owned kilt maker denounces kilt-clad Prou...</td>\n",
       "      <td>2020-12-15</td>\n",
       "      <td>image copyrightGetty Images\\r\\nimage captionTh...</td>\n",
       "    </tr>\n",
       "    <tr>\n",
       "      <th>7</th>\n",
       "      <td>Covid vaccine: When will Americans be vaccinated?</td>\n",
       "      <td>2020-12-15</td>\n",
       "      <td>By Max MatzaBBC News, Washington\\r\\nmedia capt...</td>\n",
       "    </tr>\n",
       "    <tr>\n",
       "      <th>8</th>\n",
       "      <td>Puppy that escaped alligator becomes sheriff '...</td>\n",
       "      <td>2020-12-15</td>\n",
       "      <td>Gunner the puppy survived a close encounter wi...</td>\n",
       "    </tr>\n",
       "    <tr>\n",
       "      <th>9</th>\n",
       "      <td>US election: Top Republican Mitch McConnell co...</td>\n",
       "      <td>2020-12-15</td>\n",
       "      <td>image captionJoe Biden hopes his party can tak...</td>\n",
       "    </tr>\n",
       "  </tbody>\n",
       "</table>\n",
       "</div>"
      ],
      "text/plain": [
       "                                               title        Date  \\\n",
       "0            Kangaroos can 'communicate' with humans  2020-12-16   \n",
       "1   MacKenzie Scott gives away $4.2bn in four months  2020-12-16   \n",
       "2  Australia launches WTO appeal against China's ...  2020-12-16   \n",
       "3  Ethiopia's Tigray crisis: About 2.3 million ch...  2020-12-16   \n",
       "4      Peter Nygard: Canadian fashion mogul arrested  2020-12-15   \n",
       "5  Coronavirus: France replaces lockdown with eve...  2020-12-15   \n",
       "6  LGBT-owned kilt maker denounces kilt-clad Prou...  2020-12-15   \n",
       "7  Covid vaccine: When will Americans be vaccinated?  2020-12-15   \n",
       "8  Puppy that escaped alligator becomes sheriff '...  2020-12-15   \n",
       "9  US election: Top Republican Mitch McConnell co...  2020-12-15   \n",
       "\n",
       "                                                text  \n",
       "0  Kangaroos are able to intentionally communicat...  \n",
       "1  image copyrightGetty Images\\r\\nimage captionMa...  \n",
       "2  image captionBarley - no longer a field of gol...  \n",
       "3  image captionChildren are among tens of thousa...  \n",
       "4  image copyrightGetty Images\\r\\nUS authorities ...  \n",
       "5  image copyrightGetty Images\\r\\nimage captionPo...  \n",
       "6  image copyrightGetty Images\\r\\nimage captionTh...  \n",
       "7  By Max MatzaBBC News, Washington\\r\\nmedia capt...  \n",
       "8  Gunner the puppy survived a close encounter wi...  \n",
       "9  image captionJoe Biden hopes his party can tak...  "
      ]
     },
     "execution_count": 22,
     "metadata": {},
     "output_type": "execute_result"
    }
   ],
   "source": [
    "df_2"
   ]
  },
  {
   "cell_type": "code",
   "execution_count": null,
   "metadata": {},
   "outputs": [],
   "source": []
  },
  {
   "cell_type": "code",
   "execution_count": 23,
   "metadata": {},
   "outputs": [
    {
     "data": {
      "text/plain": [
       "dict_keys(['status', 'totalResults', 'articles'])"
      ]
     },
     "execution_count": 23,
     "metadata": {},
     "output_type": "execute_result"
    }
   ],
   "source": [
    "all_articles.keys()"
   ]
  },
  {
   "cell_type": "code",
   "execution_count": 24,
   "metadata": {},
   "outputs": [
    {
     "data": {
      "text/plain": [
       "16"
      ]
     },
     "execution_count": 24,
     "metadata": {},
     "output_type": "execute_result"
    }
   ],
   "source": [
    "#all_articles['totalResults']"
   ]
  },
  {
   "cell_type": "code",
   "execution_count": 27,
   "metadata": {},
   "outputs": [
    {
     "data": {
      "text/plain": [
       "[]"
      ]
     },
     "execution_count": 27,
     "metadata": {},
     "output_type": "execute_result"
    }
   ],
   "source": [
    "#all_articles#\n",
    "#all_articles['articles']"
   ]
  },
  {
   "cell_type": "code",
   "execution_count": 26,
   "metadata": {},
   "outputs": [
    {
     "ename": "IndexError",
     "evalue": "list index out of range",
     "output_type": "error",
     "traceback": [
      "\u001b[1;31m---------------------------------------------------------------------------\u001b[0m",
      "\u001b[1;31mIndexError\u001b[0m                                Traceback (most recent call last)",
      "\u001b[1;32m<ipython-input-26-077a7e28c12b>\u001b[0m in \u001b[0;36m<module>\u001b[1;34m()\u001b[0m\n\u001b[1;32m----> 1\u001b[1;33m \u001b[0mall_articles\u001b[0m\u001b[1;33m[\u001b[0m\u001b[1;34m'articles'\u001b[0m\u001b[1;33m]\u001b[0m\u001b[1;33m[\u001b[0m\u001b[1;36m0\u001b[0m\u001b[1;33m]\u001b[0m\u001b[1;33m.\u001b[0m\u001b[0mkeys\u001b[0m\u001b[1;33m(\u001b[0m\u001b[1;33m)\u001b[0m\u001b[1;33m\u001b[0m\u001b[1;33m\u001b[0m\u001b[0m\n\u001b[0m",
      "\u001b[1;31mIndexError\u001b[0m: list index out of range"
     ]
    }
   ],
   "source": [
    "#all_articles['articles'][0].keys()"
   ]
  },
  {
   "cell_type": "code",
   "execution_count": null,
   "metadata": {},
   "outputs": [],
   "source": [
    "#all_articles"
   ]
  },
  {
   "cell_type": "code",
   "execution_count": null,
   "metadata": {},
   "outputs": [],
   "source": [
    "#all_articles['articles'][0]"
   ]
  },
  {
   "cell_type": "code",
   "execution_count": null,
   "metadata": {},
   "outputs": [],
   "source": [
    "#df_3 = pd.DataFrame(data = all_articles['articles'])"
   ]
  },
  {
   "cell_type": "code",
   "execution_count": null,
   "metadata": {},
   "outputs": [],
   "source": [
    "#df_3"
   ]
  },
  {
   "cell_type": "code",
   "execution_count": null,
   "metadata": {},
   "outputs": [],
   "source": [
    "#df_3 = df_3[['title','content','publishedAt']]"
   ]
  },
  {
   "cell_type": "code",
   "execution_count": null,
   "metadata": {},
   "outputs": [],
   "source": [
    "#df_3"
   ]
  },
  {
   "cell_type": "code",
   "execution_count": 28,
   "metadata": {},
   "outputs": [],
   "source": [
    "#if 'Date' in df_3.columns:\n",
    "#    df_3.insert(len(df_3.columns),'Date',None)\n",
    "\n",
    "#if 'text' in df_3.columns:\n",
    "#    df_3.insert(len(df_3.columns),'text',None)\n",
    "\n",
    "#for index in df_3.index:\n",
    "#    df_3.loc[index,'Date'] = df_3.loc[index,'publishedAt'][:10]\n",
    "#    df_3.loc[index,'text'] = df_3.loc[index,'content']\n",
    "#df['Date'] = df['published_date']\n",
    "#df_3 = df_3.drop('publishedAt',axis=1)\n",
    "#df_3 = df_3.drop('content',axis =1)\n",
    "#df"
   ]
  },
  {
   "cell_type": "code",
   "execution_count": 29,
   "metadata": {},
   "outputs": [],
   "source": [
    "#df_3"
   ]
  },
  {
   "cell_type": "code",
   "execution_count": 30,
   "metadata": {},
   "outputs": [],
   "source": [
    "combined_date = pd.concat([df,df_2], ignore_index=True)"
   ]
  },
  {
   "cell_type": "code",
   "execution_count": 31,
   "metadata": {},
   "outputs": [
    {
     "data": {
      "text/html": [
       "<div>\n",
       "<style scoped>\n",
       "    .dataframe tbody tr th:only-of-type {\n",
       "        vertical-align: middle;\n",
       "    }\n",
       "\n",
       "    .dataframe tbody tr th {\n",
       "        vertical-align: top;\n",
       "    }\n",
       "\n",
       "    .dataframe thead th {\n",
       "        text-align: right;\n",
       "    }\n",
       "</style>\n",
       "<table border=\"1\" class=\"dataframe\">\n",
       "  <thead>\n",
       "    <tr style=\"text-align: right;\">\n",
       "      <th></th>\n",
       "      <th>title</th>\n",
       "      <th>Date</th>\n",
       "      <th>text</th>\n",
       "    </tr>\n",
       "  </thead>\n",
       "  <tbody>\n",
       "    <tr>\n",
       "      <th>0</th>\n",
       "      <td>Tokyo stocks rise on US stimulus hopes, Fed me...</td>\n",
       "      <td>2020-12-16</td>\n",
       "      <td>December 16, 2020 (Mainichi Japan) A woman wal...</td>\n",
       "    </tr>\n",
       "    <tr>\n",
       "      <th>1</th>\n",
       "      <td>Emily Ratajkowski Shows Her Baby Bump In Showe...</td>\n",
       "      <td>2020-12-16</td>\n",
       "      <td>Emily Ratajkowski is showing off her baby bump...</td>\n",
       "    </tr>\n",
       "    <tr>\n",
       "      <th>2</th>\n",
       "      <td>India's Covid-19 cases rise to 99.32 lakh; dea...</td>\n",
       "      <td>2020-12-16</td>\n",
       "      <td>With 26,382 new infections, India's Coronaviru...</td>\n",
       "    </tr>\n",
       "    <tr>\n",
       "      <th>3</th>\n",
       "      <td>Farmers protest: Unions reject govt's amendmen...</td>\n",
       "      <td>2020-12-16</td>\n",
       "      <td>New Delhi, Dec 16: The agitating farmers' have...</td>\n",
       "    </tr>\n",
       "    <tr>\n",
       "      <th>4</th>\n",
       "      <td>Castle with 11 bedrooms and its own dungeon go...</td>\n",
       "      <td>2020-12-16</td>\n",
       "      <td>Fancy buying your very own castle? (Picture: N...</td>\n",
       "    </tr>\n",
       "    <tr>\n",
       "      <th>5</th>\n",
       "      <td>Kangaroos can 'communicate' with humans</td>\n",
       "      <td>2020-12-16</td>\n",
       "      <td>Kangaroos are able to intentionally communicat...</td>\n",
       "    </tr>\n",
       "    <tr>\n",
       "      <th>6</th>\n",
       "      <td>MacKenzie Scott gives away $4.2bn in four months</td>\n",
       "      <td>2020-12-16</td>\n",
       "      <td>image copyrightGetty Images\\r\\nimage captionMa...</td>\n",
       "    </tr>\n",
       "    <tr>\n",
       "      <th>7</th>\n",
       "      <td>Australia launches WTO appeal against China's ...</td>\n",
       "      <td>2020-12-16</td>\n",
       "      <td>image captionBarley - no longer a field of gol...</td>\n",
       "    </tr>\n",
       "    <tr>\n",
       "      <th>8</th>\n",
       "      <td>Ethiopia's Tigray crisis: About 2.3 million ch...</td>\n",
       "      <td>2020-12-16</td>\n",
       "      <td>image captionChildren are among tens of thousa...</td>\n",
       "    </tr>\n",
       "    <tr>\n",
       "      <th>9</th>\n",
       "      <td>Peter Nygard: Canadian fashion mogul arrested</td>\n",
       "      <td>2020-12-15</td>\n",
       "      <td>image copyrightGetty Images\\r\\nUS authorities ...</td>\n",
       "    </tr>\n",
       "    <tr>\n",
       "      <th>10</th>\n",
       "      <td>Coronavirus: France replaces lockdown with eve...</td>\n",
       "      <td>2020-12-15</td>\n",
       "      <td>image copyrightGetty Images\\r\\nimage captionPo...</td>\n",
       "    </tr>\n",
       "    <tr>\n",
       "      <th>11</th>\n",
       "      <td>LGBT-owned kilt maker denounces kilt-clad Prou...</td>\n",
       "      <td>2020-12-15</td>\n",
       "      <td>image copyrightGetty Images\\r\\nimage captionTh...</td>\n",
       "    </tr>\n",
       "    <tr>\n",
       "      <th>12</th>\n",
       "      <td>Covid vaccine: When will Americans be vaccinated?</td>\n",
       "      <td>2020-12-15</td>\n",
       "      <td>By Max MatzaBBC News, Washington\\r\\nmedia capt...</td>\n",
       "    </tr>\n",
       "    <tr>\n",
       "      <th>13</th>\n",
       "      <td>Puppy that escaped alligator becomes sheriff '...</td>\n",
       "      <td>2020-12-15</td>\n",
       "      <td>Gunner the puppy survived a close encounter wi...</td>\n",
       "    </tr>\n",
       "    <tr>\n",
       "      <th>14</th>\n",
       "      <td>US election: Top Republican Mitch McConnell co...</td>\n",
       "      <td>2020-12-15</td>\n",
       "      <td>image captionJoe Biden hopes his party can tak...</td>\n",
       "    </tr>\n",
       "  </tbody>\n",
       "</table>\n",
       "</div>"
      ],
      "text/plain": [
       "                                                title        Date  \\\n",
       "0   Tokyo stocks rise on US stimulus hopes, Fed me...  2020-12-16   \n",
       "1   Emily Ratajkowski Shows Her Baby Bump In Showe...  2020-12-16   \n",
       "2   India's Covid-19 cases rise to 99.32 lakh; dea...  2020-12-16   \n",
       "3   Farmers protest: Unions reject govt's amendmen...  2020-12-16   \n",
       "4   Castle with 11 bedrooms and its own dungeon go...  2020-12-16   \n",
       "5             Kangaroos can 'communicate' with humans  2020-12-16   \n",
       "6    MacKenzie Scott gives away $4.2bn in four months  2020-12-16   \n",
       "7   Australia launches WTO appeal against China's ...  2020-12-16   \n",
       "8   Ethiopia's Tigray crisis: About 2.3 million ch...  2020-12-16   \n",
       "9       Peter Nygard: Canadian fashion mogul arrested  2020-12-15   \n",
       "10  Coronavirus: France replaces lockdown with eve...  2020-12-15   \n",
       "11  LGBT-owned kilt maker denounces kilt-clad Prou...  2020-12-15   \n",
       "12  Covid vaccine: When will Americans be vaccinated?  2020-12-15   \n",
       "13  Puppy that escaped alligator becomes sheriff '...  2020-12-15   \n",
       "14  US election: Top Republican Mitch McConnell co...  2020-12-15   \n",
       "\n",
       "                                                 text  \n",
       "0   December 16, 2020 (Mainichi Japan) A woman wal...  \n",
       "1   Emily Ratajkowski is showing off her baby bump...  \n",
       "2   With 26,382 new infections, India's Coronaviru...  \n",
       "3   New Delhi, Dec 16: The agitating farmers' have...  \n",
       "4   Fancy buying your very own castle? (Picture: N...  \n",
       "5   Kangaroos are able to intentionally communicat...  \n",
       "6   image copyrightGetty Images\\r\\nimage captionMa...  \n",
       "7   image captionBarley - no longer a field of gol...  \n",
       "8   image captionChildren are among tens of thousa...  \n",
       "9   image copyrightGetty Images\\r\\nUS authorities ...  \n",
       "10  image copyrightGetty Images\\r\\nimage captionPo...  \n",
       "11  image copyrightGetty Images\\r\\nimage captionTh...  \n",
       "12  By Max MatzaBBC News, Washington\\r\\nmedia capt...  \n",
       "13  Gunner the puppy survived a close encounter wi...  \n",
       "14  image captionJoe Biden hopes his party can tak...  "
      ]
     },
     "execution_count": 31,
     "metadata": {},
     "output_type": "execute_result"
    }
   ],
   "source": [
    "combined_date"
   ]
  },
  {
   "cell_type": "code",
   "execution_count": 32,
   "metadata": {},
   "outputs": [
    {
     "data": {
      "text/plain": [
       "'\\nurl = \"https://google-news.p.rapidapi.com/v1/top_headlines\"\\n\\nquerystring = {\"lang\":\"en\",\"country\":\"US\"}\\n\\nheaders = {\\n    \\'x-rapidapi-key\\': \"acabb01517msh2b0e769baa71a5dp15fcabjsn6d2798ce3ac8\",\\n    \\'x-rapidapi-host\\': \"google-news.p.rapidapi.com\"\\n    }\\n\\nresponse = requests.request(\"GET\", url, headers=headers, params=querystring)\\n\\ngoogle = response.json()\\n'"
      ]
     },
     "execution_count": 32,
     "metadata": {},
     "output_type": "execute_result"
    }
   ],
   "source": [
    "\"\"\"\n",
    "url = \"https://google-news.p.rapidapi.com/v1/top_headlines\"\n",
    "\n",
    "querystring = {\"lang\":\"en\",\"country\":\"US\"}\n",
    "\n",
    "headers = {\n",
    "    'x-rapidapi-key': \"acabb01517msh2b0e769baa71a5dp15fcabjsn6d2798ce3ac8\",\n",
    "    'x-rapidapi-host': \"google-news.p.rapidapi.com\"\n",
    "    }\n",
    "\n",
    "response = requests.request(\"GET\", url, headers=headers, params=querystring)\n",
    "\n",
    "google = response.json()\n",
    "\"\"\""
   ]
  },
  {
   "cell_type": "code",
   "execution_count": 33,
   "metadata": {},
   "outputs": [],
   "source": [
    "#google.keys()"
   ]
  },
  {
   "cell_type": "code",
   "execution_count": 34,
   "metadata": {},
   "outputs": [],
   "source": [
    "#google"
   ]
  },
  {
   "cell_type": "markdown",
   "metadata": {},
   "source": [
    "#### Final Dataframe\n",
    "\n",
    "This dataframe will be imported by the mysql database"
   ]
  },
  {
   "cell_type": "code",
   "execution_count": 35,
   "metadata": {},
   "outputs": [
    {
     "data": {
      "text/html": [
       "<div>\n",
       "<style scoped>\n",
       "    .dataframe tbody tr th:only-of-type {\n",
       "        vertical-align: middle;\n",
       "    }\n",
       "\n",
       "    .dataframe tbody tr th {\n",
       "        vertical-align: top;\n",
       "    }\n",
       "\n",
       "    .dataframe thead th {\n",
       "        text-align: right;\n",
       "    }\n",
       "</style>\n",
       "<table border=\"1\" class=\"dataframe\">\n",
       "  <thead>\n",
       "    <tr style=\"text-align: right;\">\n",
       "      <th></th>\n",
       "      <th>title</th>\n",
       "      <th>Date</th>\n",
       "      <th>text</th>\n",
       "    </tr>\n",
       "  </thead>\n",
       "  <tbody>\n",
       "    <tr>\n",
       "      <th>0</th>\n",
       "      <td>Tokyo stocks rise on US stimulus hopes, Fed me...</td>\n",
       "      <td>2020-12-16</td>\n",
       "      <td>December 16, 2020 (Mainichi Japan) A woman wal...</td>\n",
       "    </tr>\n",
       "    <tr>\n",
       "      <th>1</th>\n",
       "      <td>Emily Ratajkowski Shows Her Baby Bump In Showe...</td>\n",
       "      <td>2020-12-16</td>\n",
       "      <td>Emily Ratajkowski is showing off her baby bump...</td>\n",
       "    </tr>\n",
       "    <tr>\n",
       "      <th>2</th>\n",
       "      <td>India's Covid-19 cases rise to 99.32 lakh; dea...</td>\n",
       "      <td>2020-12-16</td>\n",
       "      <td>With 26,382 new infections, India's Coronaviru...</td>\n",
       "    </tr>\n",
       "    <tr>\n",
       "      <th>3</th>\n",
       "      <td>Farmers protest: Unions reject govt's amendmen...</td>\n",
       "      <td>2020-12-16</td>\n",
       "      <td>New Delhi, Dec 16: The agitating farmers' have...</td>\n",
       "    </tr>\n",
       "    <tr>\n",
       "      <th>4</th>\n",
       "      <td>Castle with 11 bedrooms and its own dungeon go...</td>\n",
       "      <td>2020-12-16</td>\n",
       "      <td>Fancy buying your very own castle? (Picture: N...</td>\n",
       "    </tr>\n",
       "    <tr>\n",
       "      <th>5</th>\n",
       "      <td>Kangaroos can 'communicate' with humans</td>\n",
       "      <td>2020-12-16</td>\n",
       "      <td>Kangaroos are able to intentionally communicat...</td>\n",
       "    </tr>\n",
       "    <tr>\n",
       "      <th>6</th>\n",
       "      <td>MacKenzie Scott gives away $4.2bn in four months</td>\n",
       "      <td>2020-12-16</td>\n",
       "      <td>image copyrightGetty Images\\r\\nimage captionMa...</td>\n",
       "    </tr>\n",
       "    <tr>\n",
       "      <th>7</th>\n",
       "      <td>Australia launches WTO appeal against China's ...</td>\n",
       "      <td>2020-12-16</td>\n",
       "      <td>image captionBarley - no longer a field of gol...</td>\n",
       "    </tr>\n",
       "    <tr>\n",
       "      <th>8</th>\n",
       "      <td>Ethiopia's Tigray crisis: About 2.3 million ch...</td>\n",
       "      <td>2020-12-16</td>\n",
       "      <td>image captionChildren are among tens of thousa...</td>\n",
       "    </tr>\n",
       "    <tr>\n",
       "      <th>9</th>\n",
       "      <td>Peter Nygard: Canadian fashion mogul arrested</td>\n",
       "      <td>2020-12-15</td>\n",
       "      <td>image copyrightGetty Images\\r\\nUS authorities ...</td>\n",
       "    </tr>\n",
       "    <tr>\n",
       "      <th>10</th>\n",
       "      <td>Coronavirus: France replaces lockdown with eve...</td>\n",
       "      <td>2020-12-15</td>\n",
       "      <td>image copyrightGetty Images\\r\\nimage captionPo...</td>\n",
       "    </tr>\n",
       "    <tr>\n",
       "      <th>11</th>\n",
       "      <td>LGBT-owned kilt maker denounces kilt-clad Prou...</td>\n",
       "      <td>2020-12-15</td>\n",
       "      <td>image copyrightGetty Images\\r\\nimage captionTh...</td>\n",
       "    </tr>\n",
       "    <tr>\n",
       "      <th>12</th>\n",
       "      <td>Covid vaccine: When will Americans be vaccinated?</td>\n",
       "      <td>2020-12-15</td>\n",
       "      <td>By Max MatzaBBC News, Washington\\r\\nmedia capt...</td>\n",
       "    </tr>\n",
       "    <tr>\n",
       "      <th>13</th>\n",
       "      <td>Puppy that escaped alligator becomes sheriff '...</td>\n",
       "      <td>2020-12-15</td>\n",
       "      <td>Gunner the puppy survived a close encounter wi...</td>\n",
       "    </tr>\n",
       "    <tr>\n",
       "      <th>14</th>\n",
       "      <td>US election: Top Republican Mitch McConnell co...</td>\n",
       "      <td>2020-12-15</td>\n",
       "      <td>image captionJoe Biden hopes his party can tak...</td>\n",
       "    </tr>\n",
       "  </tbody>\n",
       "</table>\n",
       "</div>"
      ],
      "text/plain": [
       "                                                title        Date  \\\n",
       "0   Tokyo stocks rise on US stimulus hopes, Fed me...  2020-12-16   \n",
       "1   Emily Ratajkowski Shows Her Baby Bump In Showe...  2020-12-16   \n",
       "2   India's Covid-19 cases rise to 99.32 lakh; dea...  2020-12-16   \n",
       "3   Farmers protest: Unions reject govt's amendmen...  2020-12-16   \n",
       "4   Castle with 11 bedrooms and its own dungeon go...  2020-12-16   \n",
       "5             Kangaroos can 'communicate' with humans  2020-12-16   \n",
       "6    MacKenzie Scott gives away $4.2bn in four months  2020-12-16   \n",
       "7   Australia launches WTO appeal against China's ...  2020-12-16   \n",
       "8   Ethiopia's Tigray crisis: About 2.3 million ch...  2020-12-16   \n",
       "9       Peter Nygard: Canadian fashion mogul arrested  2020-12-15   \n",
       "10  Coronavirus: France replaces lockdown with eve...  2020-12-15   \n",
       "11  LGBT-owned kilt maker denounces kilt-clad Prou...  2020-12-15   \n",
       "12  Covid vaccine: When will Americans be vaccinated?  2020-12-15   \n",
       "13  Puppy that escaped alligator becomes sheriff '...  2020-12-15   \n",
       "14  US election: Top Republican Mitch McConnell co...  2020-12-15   \n",
       "\n",
       "                                                 text  \n",
       "0   December 16, 2020 (Mainichi Japan) A woman wal...  \n",
       "1   Emily Ratajkowski is showing off her baby bump...  \n",
       "2   With 26,382 new infections, India's Coronaviru...  \n",
       "3   New Delhi, Dec 16: The agitating farmers' have...  \n",
       "4   Fancy buying your very own castle? (Picture: N...  \n",
       "5   Kangaroos are able to intentionally communicat...  \n",
       "6   image copyrightGetty Images\\r\\nimage captionMa...  \n",
       "7   image captionBarley - no longer a field of gol...  \n",
       "8   image captionChildren are among tens of thousa...  \n",
       "9   image copyrightGetty Images\\r\\nUS authorities ...  \n",
       "10  image copyrightGetty Images\\r\\nimage captionPo...  \n",
       "11  image copyrightGetty Images\\r\\nimage captionTh...  \n",
       "12  By Max MatzaBBC News, Washington\\r\\nmedia capt...  \n",
       "13  Gunner the puppy survived a close encounter wi...  \n",
       "14  image captionJoe Biden hopes his party can tak...  "
      ]
     },
     "execution_count": 35,
     "metadata": {},
     "output_type": "execute_result"
    }
   ],
   "source": [
    "combined_date"
   ]
  },
  {
   "cell_type": "markdown",
   "metadata": {},
   "source": [
    "''''for index in combined_date.index:\n",
    "    #print(combined_date.loc[index,'title'].strip())\n",
    "    title = ''.join(combined_date.loc[index,'title'].strip().split(','))\n",
    "    text = ''.join(combined_date.loc[index,'text'].strip().split(','))\n",
    "    title = ''.join(title.strip().split('\"'))\n",
    "    text = ''.join(text.strip().split('\"'))\n",
    "    \n",
    "    \n",
    "    combined_date.loc[index,'title'] ='\"'+title+'\"'\n",
    "    combined_date.loc[index,'text'] ='\"'+text+'\"'\n",
    "    break\n",
    "    \n",
    "    ''''"
   ]
  },
  {
   "cell_type": "code",
   "execution_count": 41,
   "metadata": {},
   "outputs": [
    {
     "data": {
      "text/html": [
       "<div>\n",
       "<style scoped>\n",
       "    .dataframe tbody tr th:only-of-type {\n",
       "        vertical-align: middle;\n",
       "    }\n",
       "\n",
       "    .dataframe tbody tr th {\n",
       "        vertical-align: top;\n",
       "    }\n",
       "\n",
       "    .dataframe thead th {\n",
       "        text-align: right;\n",
       "    }\n",
       "</style>\n",
       "<table border=\"1\" class=\"dataframe\">\n",
       "  <thead>\n",
       "    <tr style=\"text-align: right;\">\n",
       "      <th></th>\n",
       "      <th>title</th>\n",
       "      <th>text</th>\n",
       "    </tr>\n",
       "  </thead>\n",
       "  <tbody>\n",
       "    <tr>\n",
       "      <th>0</th>\n",
       "      <td>Tokyo stocks rise on US stimulus hopes, Fed me...</td>\n",
       "      <td>December 16, 2020 (Mainichi Japan) A woman wal...</td>\n",
       "    </tr>\n",
       "    <tr>\n",
       "      <th>1</th>\n",
       "      <td>Emily Ratajkowski Shows Her Baby Bump In Showe...</td>\n",
       "      <td>Emily Ratajkowski is showing off her baby bump...</td>\n",
       "    </tr>\n",
       "    <tr>\n",
       "      <th>2</th>\n",
       "      <td>India's Covid-19 cases rise to 99.32 lakh; dea...</td>\n",
       "      <td>With 26,382 new infections, India's Coronaviru...</td>\n",
       "    </tr>\n",
       "    <tr>\n",
       "      <th>3</th>\n",
       "      <td>Farmers protest: Unions reject govt's amendmen...</td>\n",
       "      <td>New Delhi, Dec 16: The agitating farmers' have...</td>\n",
       "    </tr>\n",
       "    <tr>\n",
       "      <th>4</th>\n",
       "      <td>Castle with 11 bedrooms and its own dungeon go...</td>\n",
       "      <td>Fancy buying your very own castle? (Picture: N...</td>\n",
       "    </tr>\n",
       "    <tr>\n",
       "      <th>5</th>\n",
       "      <td>Kangaroos can 'communicate' with humans</td>\n",
       "      <td>Kangaroos are able to intentionally communicat...</td>\n",
       "    </tr>\n",
       "    <tr>\n",
       "      <th>6</th>\n",
       "      <td>MacKenzie Scott gives away $4.2bn in four months</td>\n",
       "      <td>image copyrightGetty Images\\r\\nimage captionMa...</td>\n",
       "    </tr>\n",
       "    <tr>\n",
       "      <th>7</th>\n",
       "      <td>Australia launches WTO appeal against China's ...</td>\n",
       "      <td>image captionBarley - no longer a field of gol...</td>\n",
       "    </tr>\n",
       "    <tr>\n",
       "      <th>8</th>\n",
       "      <td>Ethiopia's Tigray crisis: About 2.3 million ch...</td>\n",
       "      <td>image captionChildren are among tens of thousa...</td>\n",
       "    </tr>\n",
       "    <tr>\n",
       "      <th>9</th>\n",
       "      <td>Peter Nygard: Canadian fashion mogul arrested</td>\n",
       "      <td>image copyrightGetty Images\\r\\nUS authorities ...</td>\n",
       "    </tr>\n",
       "    <tr>\n",
       "      <th>10</th>\n",
       "      <td>Coronavirus: France replaces lockdown with eve...</td>\n",
       "      <td>image copyrightGetty Images\\r\\nimage captionPo...</td>\n",
       "    </tr>\n",
       "    <tr>\n",
       "      <th>11</th>\n",
       "      <td>LGBT-owned kilt maker denounces kilt-clad Prou...</td>\n",
       "      <td>image copyrightGetty Images\\r\\nimage captionTh...</td>\n",
       "    </tr>\n",
       "    <tr>\n",
       "      <th>12</th>\n",
       "      <td>Covid vaccine: When will Americans be vaccinated?</td>\n",
       "      <td>By Max MatzaBBC News, Washington\\r\\nmedia capt...</td>\n",
       "    </tr>\n",
       "    <tr>\n",
       "      <th>13</th>\n",
       "      <td>Puppy that escaped alligator becomes sheriff '...</td>\n",
       "      <td>Gunner the puppy survived a close encounter wi...</td>\n",
       "    </tr>\n",
       "    <tr>\n",
       "      <th>14</th>\n",
       "      <td>US election: Top Republican Mitch McConnell co...</td>\n",
       "      <td>image captionJoe Biden hopes his party can tak...</td>\n",
       "    </tr>\n",
       "  </tbody>\n",
       "</table>\n",
       "</div>"
      ],
      "text/plain": [
       "                                                title  \\\n",
       "0   Tokyo stocks rise on US stimulus hopes, Fed me...   \n",
       "1   Emily Ratajkowski Shows Her Baby Bump In Showe...   \n",
       "2   India's Covid-19 cases rise to 99.32 lakh; dea...   \n",
       "3   Farmers protest: Unions reject govt's amendmen...   \n",
       "4   Castle with 11 bedrooms and its own dungeon go...   \n",
       "5             Kangaroos can 'communicate' with humans   \n",
       "6    MacKenzie Scott gives away $4.2bn in four months   \n",
       "7   Australia launches WTO appeal against China's ...   \n",
       "8   Ethiopia's Tigray crisis: About 2.3 million ch...   \n",
       "9       Peter Nygard: Canadian fashion mogul arrested   \n",
       "10  Coronavirus: France replaces lockdown with eve...   \n",
       "11  LGBT-owned kilt maker denounces kilt-clad Prou...   \n",
       "12  Covid vaccine: When will Americans be vaccinated?   \n",
       "13  Puppy that escaped alligator becomes sheriff '...   \n",
       "14  US election: Top Republican Mitch McConnell co...   \n",
       "\n",
       "                                                 text  \n",
       "0   December 16, 2020 (Mainichi Japan) A woman wal...  \n",
       "1   Emily Ratajkowski is showing off her baby bump...  \n",
       "2   With 26,382 new infections, India's Coronaviru...  \n",
       "3   New Delhi, Dec 16: The agitating farmers' have...  \n",
       "4   Fancy buying your very own castle? (Picture: N...  \n",
       "5   Kangaroos are able to intentionally communicat...  \n",
       "6   image copyrightGetty Images\\r\\nimage captionMa...  \n",
       "7   image captionBarley - no longer a field of gol...  \n",
       "8   image captionChildren are among tens of thousa...  \n",
       "9   image copyrightGetty Images\\r\\nUS authorities ...  \n",
       "10  image copyrightGetty Images\\r\\nimage captionPo...  \n",
       "11  image copyrightGetty Images\\r\\nimage captionTh...  \n",
       "12  By Max MatzaBBC News, Washington\\r\\nmedia capt...  \n",
       "13  Gunner the puppy survived a close encounter wi...  \n",
       "14  image captionJoe Biden hopes his party can tak...  "
      ]
     },
     "execution_count": 41,
     "metadata": {},
     "output_type": "execute_result"
    }
   ],
   "source": [
    "combined_date = combined_date[['title','text']]\n",
    "combined_date"
   ]
  },
  {
   "cell_type": "code",
   "execution_count": 42,
   "metadata": {},
   "outputs": [],
   "source": [
    "combined_date.to_csv('D:\\\\Web_Development\\\\xampp\\\\mysql\\\\data\\\\pirple\\\\today.csv')"
   ]
  },
  {
   "cell_type": "markdown",
   "metadata": {},
   "source": [
    "## The above Articles are added to the database below by using the mysql connector"
   ]
  },
  {
   "cell_type": "code",
   "execution_count": 43,
   "metadata": {},
   "outputs": [],
   "source": [
    "def remove_new_lines(text):\n",
    "    text_list = text.split('\\n')\n",
    "    print(text_list)"
   ]
  },
  {
   "cell_type": "code",
   "execution_count": 44,
   "metadata": {},
   "outputs": [
    {
     "data": {
      "text/plain": [
       "'\\nwith open(\\'D:\\\\Web_Development\\\\xampp\\\\mysql\\\\data\\\\pirple\\\\today.csv\\',mode=\\'r\\',encoding=\\'utf8\\') as csv:\\n    raw_text = csv.read()\\n    #print(raw_text)\\n    raw_text = raw_text[12:]\\n    text_segments = raw_text.split(\\'\"\"\"\\n\"\"\"\\')\\n    #print(text_segments)\\n    corrected=[]\\n    for index in range(len(text_segments)):\\n        line = text_segments[index]\\n        if index==0:\\n                line = line[2:]\\n        #if index==len(text_segments):\\n        #       line = line[:-2]\\n        #print(line)\\n        #print(\\'\\n\\n\\n\\n\\')\\n        [title,text] = line.split(\"\"\",\"\"\")\\n        title = \\'\\'.join(title.strip().split(\\'\\n\\'))\\n        text = \\'\\'.join(text.strip().split(\\'\\n\\'))\\n        title = title[:-3]\\n        text = text[3:]\\n        if index==len(text_segments)-1:\\n                text = text[:-2]\\n        text = \\'\"\\'+text+\\'\"\\'\\n        title = \\'\"\\'+title+\\'\"\\'\\n        print(\\'title :-\\',title)\\n        print(\\'text :-\\',text)\\n        print(line)\\n        print(\\'\\n\\n\\n\\n\\')\\n        reformed = \\',\\'.join([title,text])+\\'/n\\'\\n        corrected.append(reformed)\\n        \\n    final = \\'\\'.join(corrected)\\n\\n#for each in text_segments:\\n#    print(each)\\n#    print(\\'\\n\\n\\n\\n\\')\\n    \\n    \\nwith open(\\'D:\\\\Web_Development\\\\xampp\\\\mysql\\\\data\\\\pirple\\\\today_refomed.csv\\',mode=\\'w\\',encoding=\\'utf8\\') as csv:\\n            csv.write(final)\\n            \\n            '"
      ]
     },
     "execution_count": 44,
     "metadata": {},
     "output_type": "execute_result"
    }
   ],
   "source": [
    "#no_of_formats=2\n",
    "'''\n",
    "with open('D:\\\\Web_Development\\\\xampp\\\\mysql\\\\data\\\\pirple\\\\today.csv',mode='r',encoding='utf8') as csv:\n",
    "    raw_text = csv.read()\n",
    "    #print(raw_text)\n",
    "    raw_text = raw_text[12:]\n",
    "    text_segments = raw_text.split('\"\"\"\\n\"\"\"')\n",
    "    #print(text_segments)\n",
    "    corrected=[]\n",
    "    for index in range(len(text_segments)):\n",
    "        line = text_segments[index]\n",
    "        if index==0:\n",
    "                line = line[2:]\n",
    "        #if index==len(text_segments):\n",
    "        #       line = line[:-2]\n",
    "        #print(line)\n",
    "        #print('\\n\\n\\n\\n')\n",
    "        [title,text] = line.split(\"\"\",\"\"\")\n",
    "        title = ''.join(title.strip().split('\\n'))\n",
    "        text = ''.join(text.strip().split('\\n'))\n",
    "        title = title[:-3]\n",
    "        text = text[3:]\n",
    "        if index==len(text_segments)-1:\n",
    "                text = text[:-2]\n",
    "        text = '\"'+text+'\"'\n",
    "        title = '\"'+title+'\"'\n",
    "        print('title :-',title)\n",
    "        print('text :-',text)\n",
    "        print(line)\n",
    "        print('\\n\\n\\n\\n')\n",
    "        reformed = ','.join([title,text])+'/n'\n",
    "        corrected.append(reformed)\n",
    "        \n",
    "    final = ''.join(corrected)\n",
    "\n",
    "#for each in text_segments:\n",
    "#    print(each)\n",
    "#    print('\\n\\n\\n\\n')\n",
    "    \n",
    "    \n",
    "with open('D:\\\\Web_Development\\\\xampp\\\\mysql\\\\data\\\\pirple\\\\today_refomed.csv',mode='w',encoding='utf8') as csv:\n",
    "            csv.write(final)\n",
    "            \n",
    "            '''\n",
    "            \n",
    "            \n",
    "        "
   ]
  },
  {
   "cell_type": "code",
   "execution_count": 52,
   "metadata": {},
   "outputs": [
    {
     "data": {
      "text/html": [
       "<div>\n",
       "<style scoped>\n",
       "    .dataframe tbody tr th:only-of-type {\n",
       "        vertical-align: middle;\n",
       "    }\n",
       "\n",
       "    .dataframe tbody tr th {\n",
       "        vertical-align: top;\n",
       "    }\n",
       "\n",
       "    .dataframe thead th {\n",
       "        text-align: right;\n",
       "    }\n",
       "</style>\n",
       "<table border=\"1\" class=\"dataframe\">\n",
       "  <thead>\n",
       "    <tr style=\"text-align: right;\">\n",
       "      <th></th>\n",
       "      <th>title</th>\n",
       "      <th>text</th>\n",
       "    </tr>\n",
       "  </thead>\n",
       "  <tbody>\n",
       "    <tr>\n",
       "      <th>0</th>\n",
       "      <td>Tokyo stocks rise on US stimulus hopes, Fed me...</td>\n",
       "      <td>December 16, 2020 (Mainichi Japan) A woman wal...</td>\n",
       "    </tr>\n",
       "    <tr>\n",
       "      <th>1</th>\n",
       "      <td>Emily Ratajkowski Shows Her Baby Bump In Showe...</td>\n",
       "      <td>Emily Ratajkowski is showing off her baby bump...</td>\n",
       "    </tr>\n",
       "    <tr>\n",
       "      <th>2</th>\n",
       "      <td>India's Covid-19 cases rise to 99.32 lakh; dea...</td>\n",
       "      <td>With 26,382 new infections, India's Coronaviru...</td>\n",
       "    </tr>\n",
       "    <tr>\n",
       "      <th>3</th>\n",
       "      <td>Farmers protest: Unions reject govt's amendmen...</td>\n",
       "      <td>New Delhi, Dec 16: The agitating farmers' have...</td>\n",
       "    </tr>\n",
       "    <tr>\n",
       "      <th>4</th>\n",
       "      <td>Castle with 11 bedrooms and its own dungeon go...</td>\n",
       "      <td>Fancy buying your very own castle? (Picture: N...</td>\n",
       "    </tr>\n",
       "    <tr>\n",
       "      <th>5</th>\n",
       "      <td>Kangaroos can 'communicate' with humans</td>\n",
       "      <td>Kangaroos are able to intentionally communicat...</td>\n",
       "    </tr>\n",
       "    <tr>\n",
       "      <th>6</th>\n",
       "      <td>MacKenzie Scott gives away $4.2bn in four months</td>\n",
       "      <td>image copyrightGetty Images\\r\\nimage captionMa...</td>\n",
       "    </tr>\n",
       "    <tr>\n",
       "      <th>7</th>\n",
       "      <td>Australia launches WTO appeal against China's ...</td>\n",
       "      <td>image captionBarley - no longer a field of gol...</td>\n",
       "    </tr>\n",
       "    <tr>\n",
       "      <th>8</th>\n",
       "      <td>Ethiopia's Tigray crisis: About 2.3 million ch...</td>\n",
       "      <td>image captionChildren are among tens of thousa...</td>\n",
       "    </tr>\n",
       "    <tr>\n",
       "      <th>9</th>\n",
       "      <td>Peter Nygard: Canadian fashion mogul arrested</td>\n",
       "      <td>image copyrightGetty Images\\r\\nUS authorities ...</td>\n",
       "    </tr>\n",
       "    <tr>\n",
       "      <th>10</th>\n",
       "      <td>Coronavirus: France replaces lockdown with eve...</td>\n",
       "      <td>image copyrightGetty Images\\r\\nimage captionPo...</td>\n",
       "    </tr>\n",
       "    <tr>\n",
       "      <th>11</th>\n",
       "      <td>LGBT-owned kilt maker denounces kilt-clad Prou...</td>\n",
       "      <td>image copyrightGetty Images\\r\\nimage captionTh...</td>\n",
       "    </tr>\n",
       "    <tr>\n",
       "      <th>12</th>\n",
       "      <td>Covid vaccine: When will Americans be vaccinated?</td>\n",
       "      <td>By Max MatzaBBC News, Washington\\r\\nmedia capt...</td>\n",
       "    </tr>\n",
       "    <tr>\n",
       "      <th>13</th>\n",
       "      <td>Puppy that escaped alligator becomes sheriff '...</td>\n",
       "      <td>Gunner the puppy survived a close encounter wi...</td>\n",
       "    </tr>\n",
       "    <tr>\n",
       "      <th>14</th>\n",
       "      <td>US election: Top Republican Mitch McConnell co...</td>\n",
       "      <td>image captionJoe Biden hopes his party can tak...</td>\n",
       "    </tr>\n",
       "  </tbody>\n",
       "</table>\n",
       "</div>"
      ],
      "text/plain": [
       "                                                title  \\\n",
       "0   Tokyo stocks rise on US stimulus hopes, Fed me...   \n",
       "1   Emily Ratajkowski Shows Her Baby Bump In Showe...   \n",
       "2   India's Covid-19 cases rise to 99.32 lakh; dea...   \n",
       "3   Farmers protest: Unions reject govt's amendmen...   \n",
       "4   Castle with 11 bedrooms and its own dungeon go...   \n",
       "5             Kangaroos can 'communicate' with humans   \n",
       "6    MacKenzie Scott gives away $4.2bn in four months   \n",
       "7   Australia launches WTO appeal against China's ...   \n",
       "8   Ethiopia's Tigray crisis: About 2.3 million ch...   \n",
       "9       Peter Nygard: Canadian fashion mogul arrested   \n",
       "10  Coronavirus: France replaces lockdown with eve...   \n",
       "11  LGBT-owned kilt maker denounces kilt-clad Prou...   \n",
       "12  Covid vaccine: When will Americans be vaccinated?   \n",
       "13  Puppy that escaped alligator becomes sheriff '...   \n",
       "14  US election: Top Republican Mitch McConnell co...   \n",
       "\n",
       "                                                 text  \n",
       "0   December 16, 2020 (Mainichi Japan) A woman wal...  \n",
       "1   Emily Ratajkowski is showing off her baby bump...  \n",
       "2   With 26,382 new infections, India's Coronaviru...  \n",
       "3   New Delhi, Dec 16: The agitating farmers' have...  \n",
       "4   Fancy buying your very own castle? (Picture: N...  \n",
       "5   Kangaroos are able to intentionally communicat...  \n",
       "6   image copyrightGetty Images\\r\\nimage captionMa...  \n",
       "7   image captionBarley - no longer a field of gol...  \n",
       "8   image captionChildren are among tens of thousa...  \n",
       "9   image copyrightGetty Images\\r\\nUS authorities ...  \n",
       "10  image copyrightGetty Images\\r\\nimage captionPo...  \n",
       "11  image copyrightGetty Images\\r\\nimage captionTh...  \n",
       "12  By Max MatzaBBC News, Washington\\r\\nmedia capt...  \n",
       "13  Gunner the puppy survived a close encounter wi...  \n",
       "14  image captionJoe Biden hopes his party can tak...  "
      ]
     },
     "execution_count": 52,
     "metadata": {},
     "output_type": "execute_result"
    }
   ],
   "source": [
    "combined_date"
   ]
  },
  {
   "cell_type": "code",
   "execution_count": 58,
   "metadata": {},
   "outputs": [],
   "source": [
    "import mysql.connector\n",
    "from datetime import date"
   ]
  },
  {
   "cell_type": "code",
   "execution_count": 59,
   "metadata": {},
   "outputs": [],
   "source": [
    "mydb = mysql.connector.connect(\n",
    "  host=\"localhost\",\n",
    "  user=\"root\",\n",
    "  password=\"\",\n",
    "  database=\"pirple\"\n",
    ")\n"
   ]
  },
  {
   "cell_type": "code",
   "execution_count": 60,
   "metadata": {},
   "outputs": [
    {
     "data": {
      "text/plain": [
       "<mysql.connector.connection_cext.CMySQLConnection at 0x23867b2f4a8>"
      ]
     },
     "execution_count": 60,
     "metadata": {},
     "output_type": "execute_result"
    }
   ],
   "source": [
    "mydb"
   ]
  },
  {
   "cell_type": "code",
   "execution_count": 61,
   "metadata": {},
   "outputs": [
    {
     "name": "stdout",
     "output_type": "stream",
     "text": [
      "('maxtemp',)\n",
      "('news',)\n",
      "('portland',)\n",
      "('sanfrancisco',)\n"
     ]
    }
   ],
   "source": [
    "mycursor = mydb.cursor()\n",
    "\n",
    "mycursor.execute(\"SHOW TABLES\")\n",
    "\n",
    "for x in mycursor:\n",
    "  print(x)"
   ]
  },
  {
   "cell_type": "code",
   "execution_count": 62,
   "metadata": {},
   "outputs": [],
   "source": [
    "sql = \"INSERT INTO news (date, title, text) VALUES (%s, %s, %s)\"\n",
    "date = date.today()\n",
    "\n",
    "for index in combined_date.index:\n",
    "    title = combined_date.loc[index,'title']\n",
    "    text = combined_date.loc[index,'text']\n",
    "    \n",
    "    val = (date,title, text)\n",
    "    mycursor.execute(sql, val)\n",
    "\n",
    "    mydb.commit()"
   ]
  },
  {
   "cell_type": "code",
   "execution_count": null,
   "metadata": {},
   "outputs": [],
   "source": []
  }
 ],
 "metadata": {
  "kernelspec": {
   "display_name": "Python 3",
   "language": "python",
   "name": "python3"
  },
  "language_info": {
   "codemirror_mode": {
    "name": "ipython",
    "version": 3
   },
   "file_extension": ".py",
   "mimetype": "text/x-python",
   "name": "python",
   "nbconvert_exporter": "python",
   "pygments_lexer": "ipython3",
   "version": "3.6.12"
  }
 },
 "nbformat": 4,
 "nbformat_minor": 4
}
